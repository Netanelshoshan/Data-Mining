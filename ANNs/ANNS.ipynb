{
 "cells": [
  {
   "cell_type": "code",
   "execution_count": 1,
   "outputs": [],
   "source": [
    "import numpy as np\n",
    "import pandas as pd\n",
    "import tensorflow as tf\n",
    "from keras.models import Sequential\n",
    "from keras.layers import Dense\n",
    "from sklearn.model_selection import train_test_split\n",
    "from sklearn.preprocessing import LabelEncoder, StandardScaler\n",
    "from keras.utils import np_utils\n",
    "from sklearn.model_selection import cross_val_score\n",
    "from sklearn.compose import ColumnTransformer\n",
    "from sklearn.preprocessing import OrdinalEncoder\n",
    "from keras.utils.vis_utils import plot_model\n",
    "import matplotlib.pyplot as plt"
   ],
   "metadata": {
    "collapsed": false,
    "pycharm": {
     "name": "#%%\n"
    }
   }
  },
  {
   "cell_type": "code",
   "execution_count": 2,
   "outputs": [
    {
     "data": {
      "text/plain": "   Gender   Age  Height  Weight family_history_with_overweight FAVC  FCVC  \\\n0  Female  21.0    1.62    64.0                            yes   no   2.0   \n1  Female  21.0    1.52    56.0                            yes   no   3.0   \n2    Male  23.0    1.80    77.0                            yes   no   2.0   \n3    Male  27.0    1.80    87.0                             no   no   3.0   \n4    Male  29.0    1.62    53.0                             no  yes   2.0   \n\n   NCP       CAEC SMOKE  CH2O  SCC  FAF  TUE        CALC  \\\n0  3.0  Sometimes    no   2.0   no  0.0  1.0          no   \n1  3.0  Sometimes   yes   3.0  yes  3.0  0.0   Sometimes   \n2  3.0  Sometimes    no   2.0   no  2.0  1.0  Frequently   \n3  3.0  Sometimes    no   2.0   no  2.0  0.0  Frequently   \n4  3.0  Sometimes    no   2.0   no  0.0  0.0   Sometimes   \n\n                  MTRANS  NObeyesdad  \n0  Public_Transportation           2  \n1  Public_Transportation           2  \n2  Public_Transportation           2  \n3                Walking           3  \n4             Automobile           2  ",
      "text/html": "<div>\n<style scoped>\n    .dataframe tbody tr th:only-of-type {\n        vertical-align: middle;\n    }\n\n    .dataframe tbody tr th {\n        vertical-align: top;\n    }\n\n    .dataframe thead th {\n        text-align: right;\n    }\n</style>\n<table border=\"1\" class=\"dataframe\">\n  <thead>\n    <tr style=\"text-align: right;\">\n      <th></th>\n      <th>Gender</th>\n      <th>Age</th>\n      <th>Height</th>\n      <th>Weight</th>\n      <th>family_history_with_overweight</th>\n      <th>FAVC</th>\n      <th>FCVC</th>\n      <th>NCP</th>\n      <th>CAEC</th>\n      <th>SMOKE</th>\n      <th>CH2O</th>\n      <th>SCC</th>\n      <th>FAF</th>\n      <th>TUE</th>\n      <th>CALC</th>\n      <th>MTRANS</th>\n      <th>NObeyesdad</th>\n    </tr>\n  </thead>\n  <tbody>\n    <tr>\n      <th>0</th>\n      <td>Female</td>\n      <td>21.0</td>\n      <td>1.62</td>\n      <td>64.0</td>\n      <td>yes</td>\n      <td>no</td>\n      <td>2.0</td>\n      <td>3.0</td>\n      <td>Sometimes</td>\n      <td>no</td>\n      <td>2.0</td>\n      <td>no</td>\n      <td>0.0</td>\n      <td>1.0</td>\n      <td>no</td>\n      <td>Public_Transportation</td>\n      <td>2</td>\n    </tr>\n    <tr>\n      <th>1</th>\n      <td>Female</td>\n      <td>21.0</td>\n      <td>1.52</td>\n      <td>56.0</td>\n      <td>yes</td>\n      <td>no</td>\n      <td>3.0</td>\n      <td>3.0</td>\n      <td>Sometimes</td>\n      <td>yes</td>\n      <td>3.0</td>\n      <td>yes</td>\n      <td>3.0</td>\n      <td>0.0</td>\n      <td>Sometimes</td>\n      <td>Public_Transportation</td>\n      <td>2</td>\n    </tr>\n    <tr>\n      <th>2</th>\n      <td>Male</td>\n      <td>23.0</td>\n      <td>1.80</td>\n      <td>77.0</td>\n      <td>yes</td>\n      <td>no</td>\n      <td>2.0</td>\n      <td>3.0</td>\n      <td>Sometimes</td>\n      <td>no</td>\n      <td>2.0</td>\n      <td>no</td>\n      <td>2.0</td>\n      <td>1.0</td>\n      <td>Frequently</td>\n      <td>Public_Transportation</td>\n      <td>2</td>\n    </tr>\n    <tr>\n      <th>3</th>\n      <td>Male</td>\n      <td>27.0</td>\n      <td>1.80</td>\n      <td>87.0</td>\n      <td>no</td>\n      <td>no</td>\n      <td>3.0</td>\n      <td>3.0</td>\n      <td>Sometimes</td>\n      <td>no</td>\n      <td>2.0</td>\n      <td>no</td>\n      <td>2.0</td>\n      <td>0.0</td>\n      <td>Frequently</td>\n      <td>Walking</td>\n      <td>3</td>\n    </tr>\n    <tr>\n      <th>4</th>\n      <td>Male</td>\n      <td>29.0</td>\n      <td>1.62</td>\n      <td>53.0</td>\n      <td>no</td>\n      <td>yes</td>\n      <td>2.0</td>\n      <td>3.0</td>\n      <td>Sometimes</td>\n      <td>no</td>\n      <td>2.0</td>\n      <td>no</td>\n      <td>0.0</td>\n      <td>0.0</td>\n      <td>Sometimes</td>\n      <td>Automobile</td>\n      <td>2</td>\n    </tr>\n  </tbody>\n</table>\n</div>"
     },
     "execution_count": 2,
     "metadata": {},
     "output_type": "execute_result"
    }
   ],
   "source": [
    "#load the dataset\n",
    "df = pd.read_csv('outliersRemoved.csv')\n",
    "df.head()"
   ],
   "metadata": {
    "collapsed": false,
    "pycharm": {
     "name": "#%%\n"
    }
   }
  },
  {
   "cell_type": "code",
   "execution_count": 3,
   "outputs": [
    {
     "name": "stdout",
     "output_type": "stream",
     "text": [
      "<class 'pandas.core.frame.DataFrame'>\n",
      "RangeIndex: 1762 entries, 0 to 1761\n",
      "Data columns (total 17 columns):\n",
      " #   Column                          Non-Null Count  Dtype  \n",
      "---  ------                          --------------  -----  \n",
      " 0   Gender                          1762 non-null   object \n",
      " 1   Age                             1762 non-null   float64\n",
      " 2   Height                          1762 non-null   float64\n",
      " 3   Weight                          1762 non-null   float64\n",
      " 4   family_history_with_overweight  1762 non-null   object \n",
      " 5   FAVC                            1762 non-null   object \n",
      " 6   FCVC                            1762 non-null   float64\n",
      " 7   NCP                             1762 non-null   float64\n",
      " 8   CAEC                            1762 non-null   object \n",
      " 9   SMOKE                           1762 non-null   object \n",
      " 10  CH2O                            1762 non-null   float64\n",
      " 11  SCC                             1762 non-null   object \n",
      " 12  FAF                             1762 non-null   float64\n",
      " 13  TUE                             1762 non-null   float64\n",
      " 14  CALC                            1762 non-null   object \n",
      " 15  MTRANS                          1762 non-null   object \n",
      " 16  NObeyesdad                      1762 non-null   int64  \n",
      "dtypes: float64(8), int64(1), object(8)\n",
      "memory usage: 234.1+ KB\n"
     ]
    }
   ],
   "source": [
    "df.info()"
   ],
   "metadata": {
    "collapsed": false,
    "pycharm": {
     "name": "#%%\n"
    }
   }
  },
  {
   "cell_type": "markdown",
   "source": [
    "### Label-encode class attr. and delete the class attr. from the data frame."
   ],
   "metadata": {
    "collapsed": false,
    "pycharm": {
     "name": "#%% md\n"
    }
   }
  },
  {
   "cell_type": "code",
   "execution_count": 4,
   "outputs": [],
   "source": [
    "def prepareY(df):\n",
    "    # extract Y and drop from dataframe\n",
    "    Y = df['NObeyesdad']\n",
    "    # encode class values as integers\n",
    "    yencoder = LabelEncoder()\n",
    "    yencoder.fit(Y)\n",
    "    return yencoder.transform(Y)\n",
    "\n",
    "\n",
    "y = prepareY(df)  # label encode class attr.\n",
    "df = df.drop([\"NObeyesdad\"], axis=1)  # drop the class attr.\n",
    "#pd.DataFrame(y).head()"
   ],
   "metadata": {
    "collapsed": false,
    "pycharm": {
     "name": "#%%\n"
    }
   }
  },
  {
   "cell_type": "markdown",
   "source": [
    "#### Separate each categorical and numerical so we could handle each one independently and transform the columns\n"
   ],
   "metadata": {
    "collapsed": false,
    "pycharm": {
     "name": "#%% md\n"
    }
   }
  },
  {
   "cell_type": "code",
   "execution_count": 5,
   "outputs": [],
   "source": [
    "numerical_columns = df.select_dtypes(include=['int64', 'float64']).columns\n",
    "categorical_columns = df.select_dtypes(include=['object', 'bool']).columns\n",
    "\n",
    "# use OrdinalEncoder() for our categorical columns and StandardScaler() for our numerical columns()\n",
    "column_trans = ColumnTransformer(\n",
    "    [('cat', OrdinalEncoder(), categorical_columns),\n",
    "     ('num', StandardScaler(), numerical_columns)])\n",
    "column_trans.fit(df)\n",
    "\n",
    "X = column_trans.transform(df)  # declare X after transformations\n",
    "# pd.DataFrame(X).head()"
   ],
   "metadata": {
    "collapsed": false,
    "pycharm": {
     "name": "#%%\n"
    }
   }
  },
  {
   "cell_type": "code",
   "execution_count": 6,
   "outputs": [],
   "source": [
    "n_features = X.shape[1]  # get the number of fetures in X\n",
    "X_train, X_test, y_train, y_test = train_test_split(X, y, test_size=0.3, random_state=42)"
   ],
   "metadata": {
    "collapsed": false,
    "pycharm": {
     "name": "#%%\n"
    }
   }
  },
  {
   "cell_type": "code",
   "execution_count": 7,
   "outputs": [],
   "source": [
    "# convert class attr to categorical\n",
    "yhot = np_utils.to_categorical(y)\n",
    "yhot_train = np_utils.to_categorical(y_train)\n",
    "yhot_test = np_utils.to_categorical(y_test)"
   ],
   "metadata": {
    "collapsed": false,
    "pycharm": {
     "name": "#%%\n"
    }
   }
  },
  {
   "cell_type": "code",
   "execution_count": 8,
   "outputs": [],
   "source": [
    "# input layer = no. of features = 16\n",
    "# 2 hidden layers. each of size of input layer * 2\n",
    "# output layer = size of target ( 7 categories) = 7\n",
    "\n",
    "def baseline_model():\n",
    "\n",
    "    model = Sequential()\n",
    "    # first activation layer gets input from size n_features\n",
    "    model.add(Dense(32, input_dim=n_features, activation='relu'))\n",
    "    model.add(Dense(32, activation='relu'))\n",
    "    # Softmax for multi-class classification - per 'Madrich Lemidha'\n",
    "    model.add(Dense(7, activation='softmax'))\n",
    "    # Compile model\n",
    "    model.compile(loss='categorical_crossentropy', optimizer='adam', metrics=['accuracy'])\n",
    "    return model"
   ],
   "metadata": {
    "collapsed": false,
    "pycharm": {
     "name": "#%%\n"
    }
   }
  },
  {
   "cell_type": "code",
   "execution_count": 9,
   "outputs": [],
   "source": [
    "from sklearn.model_selection import KFold\n",
    "from tensorflow.python.keras.wrappers.scikit_learn import KerasClassifier\n",
    "\n",
    "# use KerasClassifier so we could convert our model and use kfold from sklearn\n",
    "cmodel = KerasClassifier(build_fn=baseline_model, epochs=200,batch_size=100, verbose=0)\n",
    "kfold = KFold(n_splits=10, shuffle=True)\n"
   ],
   "metadata": {
    "collapsed": false,
    "pycharm": {
     "name": "#%%\n"
    }
   }
  },
  {
   "cell_type": "code",
   "execution_count": 10,
   "outputs": [
    {
     "name": "stdout",
     "output_type": "stream",
     "text": [
      "Metal device set to: Apple M1 Max\n"
     ]
    },
    {
     "name": "stderr",
     "output_type": "stream",
     "text": [
      "2022-06-14 19:30:55.528035: I tensorflow/core/common_runtime/pluggable_device/pluggable_device_factory.cc:305] Could not identify NUMA node of platform GPU ID 0, defaulting to 0. Your kernel may not have been built with NUMA support.\n",
      "2022-06-14 19:30:55.528170: I tensorflow/core/common_runtime/pluggable_device/pluggable_device_factory.cc:271] Created TensorFlow device (/job:localhost/replica:0/task:0/device:GPU:0 with 0 MB memory) -> physical PluggableDevice (device: 0, name: METAL, pci bus id: <undefined>)\n",
      "2022-06-14 19:30:55.606849: W tensorflow/core/platform/profile_utils/cpu_utils.cc:128] Failed to get CPU frequency: 0 Hz\n",
      "2022-06-14 19:30:55.776415: I tensorflow/core/grappler/optimizers/custom_graph_optimizer_registry.cc:113] Plugin optimizer for device_type GPU is enabled.\n",
      "2022-06-14 19:31:15.664067: I tensorflow/core/grappler/optimizers/custom_graph_optimizer_registry.cc:113] Plugin optimizer for device_type GPU is enabled.\n",
      "2022-06-14 19:31:15.872994: I tensorflow/core/grappler/optimizers/custom_graph_optimizer_registry.cc:113] Plugin optimizer for device_type GPU is enabled.\n",
      "2022-06-14 19:31:35.494210: I tensorflow/core/grappler/optimizers/custom_graph_optimizer_registry.cc:113] Plugin optimizer for device_type GPU is enabled.\n",
      "2022-06-14 19:31:35.801788: I tensorflow/core/grappler/optimizers/custom_graph_optimizer_registry.cc:113] Plugin optimizer for device_type GPU is enabled.\n",
      "2022-06-14 19:31:55.902674: I tensorflow/core/grappler/optimizers/custom_graph_optimizer_registry.cc:113] Plugin optimizer for device_type GPU is enabled.\n",
      "2022-06-14 19:31:56.123255: I tensorflow/core/grappler/optimizers/custom_graph_optimizer_registry.cc:113] Plugin optimizer for device_type GPU is enabled.\n",
      "2022-06-14 19:32:16.393790: I tensorflow/core/grappler/optimizers/custom_graph_optimizer_registry.cc:113] Plugin optimizer for device_type GPU is enabled.\n",
      "2022-06-14 19:32:16.596529: I tensorflow/core/grappler/optimizers/custom_graph_optimizer_registry.cc:113] Plugin optimizer for device_type GPU is enabled.\n"
     ]
    },
    {
     "name": "stdout",
     "output_type": "stream",
     "text": [
      "WARNING:tensorflow:5 out of the last 9 calls to <function Model.make_test_function.<locals>.test_function at 0x28f95f040> triggered tf.function retracing. Tracing is expensive and the excessive number of tracings could be due to (1) creating @tf.function repeatedly in a loop, (2) passing tensors with different shapes, (3) passing Python objects instead of tensors. For (1), please define your @tf.function outside of the loop. For (2), @tf.function has reduce_retracing=True option that can avoid unnecessary retracing. For (3), please refer to https://www.tensorflow.org/guide/function#controlling_retracing and https://www.tensorflow.org/api_docs/python/tf/function for  more details.\n"
     ]
    },
    {
     "name": "stderr",
     "output_type": "stream",
     "text": [
      "2022-06-14 19:32:36.712693: I tensorflow/core/grappler/optimizers/custom_graph_optimizer_registry.cc:113] Plugin optimizer for device_type GPU is enabled.\n",
      "2022-06-14 19:32:36.940984: I tensorflow/core/grappler/optimizers/custom_graph_optimizer_registry.cc:113] Plugin optimizer for device_type GPU is enabled.\n"
     ]
    },
    {
     "name": "stdout",
     "output_type": "stream",
     "text": [
      "WARNING:tensorflow:6 out of the last 11 calls to <function Model.make_test_function.<locals>.test_function at 0x2b79c1040> triggered tf.function retracing. Tracing is expensive and the excessive number of tracings could be due to (1) creating @tf.function repeatedly in a loop, (2) passing tensors with different shapes, (3) passing Python objects instead of tensors. For (1), please define your @tf.function outside of the loop. For (2), @tf.function has reduce_retracing=True option that can avoid unnecessary retracing. For (3), please refer to https://www.tensorflow.org/guide/function#controlling_retracing and https://www.tensorflow.org/api_docs/python/tf/function for  more details.\n"
     ]
    },
    {
     "name": "stderr",
     "output_type": "stream",
     "text": [
      "2022-06-14 19:32:57.828979: I tensorflow/core/grappler/optimizers/custom_graph_optimizer_registry.cc:113] Plugin optimizer for device_type GPU is enabled.\n",
      "2022-06-14 19:32:58.064999: I tensorflow/core/grappler/optimizers/custom_graph_optimizer_registry.cc:113] Plugin optimizer for device_type GPU is enabled.\n",
      "2022-06-14 19:33:18.826868: I tensorflow/core/grappler/optimizers/custom_graph_optimizer_registry.cc:113] Plugin optimizer for device_type GPU is enabled.\n",
      "2022-06-14 19:33:19.045212: I tensorflow/core/grappler/optimizers/custom_graph_optimizer_registry.cc:113] Plugin optimizer for device_type GPU is enabled.\n",
      "2022-06-14 19:33:39.869696: I tensorflow/core/grappler/optimizers/custom_graph_optimizer_registry.cc:113] Plugin optimizer for device_type GPU is enabled.\n",
      "2022-06-14 19:33:40.077546: I tensorflow/core/grappler/optimizers/custom_graph_optimizer_registry.cc:113] Plugin optimizer for device_type GPU is enabled.\n",
      "2022-06-14 19:34:00.848800: I tensorflow/core/grappler/optimizers/custom_graph_optimizer_registry.cc:113] Plugin optimizer for device_type GPU is enabled.\n",
      "2022-06-14 19:34:01.055229: I tensorflow/core/grappler/optimizers/custom_graph_optimizer_registry.cc:113] Plugin optimizer for device_type GPU is enabled.\n"
     ]
    },
    {
     "name": "stdout",
     "output_type": "stream",
     "text": [
      "Result should be around: 96.14% (1.60%)\n"
     ]
    },
    {
     "name": "stderr",
     "output_type": "stream",
     "text": [
      "2022-06-14 19:34:21.243583: I tensorflow/core/grappler/optimizers/custom_graph_optimizer_registry.cc:113] Plugin optimizer for device_type GPU is enabled.\n"
     ]
    }
   ],
   "source": [
    "# evaluate our model on all of our dataset\n",
    "result = cross_val_score(cmodel, X, yhot, cv=kfold)\n",
    "print(\"Result should be around: %.2f%% (%.2f%%)\" % (result.mean() * 100, result.std() * 100))"
   ],
   "metadata": {
    "collapsed": false,
    "pycharm": {
     "name": "#%%\n"
    }
   }
  },
  {
   "cell_type": "code",
   "execution_count": 11,
   "outputs": [
    {
     "name": "stdout",
     "output_type": "stream",
     "text": [
      "Epoch 1/200\n"
     ]
    },
    {
     "name": "stderr",
     "output_type": "stream",
     "text": [
      "2022-06-14 19:34:37.245434: I tensorflow/core/grappler/optimizers/custom_graph_optimizer_registry.cc:113] Plugin optimizer for device_type GPU is enabled.\n"
     ]
    },
    {
     "name": "stdout",
     "output_type": "stream",
     "text": [
      "9/9 - 1s - loss: 2.0305 - accuracy: 0.1186 - val_loss: 1.9918 - val_accuracy: 0.1302 - 516ms/epoch - 57ms/step\n",
      "Epoch 2/200\n"
     ]
    },
    {
     "name": "stderr",
     "output_type": "stream",
     "text": [
      "2022-06-14 19:34:37.447399: I tensorflow/core/grappler/optimizers/custom_graph_optimizer_registry.cc:113] Plugin optimizer for device_type GPU is enabled.\n"
     ]
    },
    {
     "name": "stdout",
     "output_type": "stream",
     "text": [
      "9/9 - 0s - loss: 1.9487 - accuracy: 0.1792 - val_loss: 1.9239 - val_accuracy: 0.2875 - 111ms/epoch - 12ms/step\n",
      "Epoch 3/200\n",
      "9/9 - 0s - loss: 1.8852 - accuracy: 0.3123 - val_loss: 1.8687 - val_accuracy: 0.3612 - 106ms/epoch - 12ms/step\n",
      "Epoch 4/200\n",
      "9/9 - 0s - loss: 1.8298 - accuracy: 0.3656 - val_loss: 1.8105 - val_accuracy: 0.4054 - 100ms/epoch - 11ms/step\n",
      "Epoch 5/200\n",
      "9/9 - 0s - loss: 1.7726 - accuracy: 0.3959 - val_loss: 1.7452 - val_accuracy: 0.4300 - 100ms/epoch - 11ms/step\n",
      "Epoch 6/200\n",
      "9/9 - 0s - loss: 1.7086 - accuracy: 0.4370 - val_loss: 1.6712 - val_accuracy: 0.4742 - 100ms/epoch - 11ms/step\n",
      "Epoch 7/200\n",
      "9/9 - 0s - loss: 1.6360 - accuracy: 0.4758 - val_loss: 1.5821 - val_accuracy: 0.4914 - 106ms/epoch - 12ms/step\n",
      "Epoch 8/200\n",
      "9/9 - 0s - loss: 1.5560 - accuracy: 0.5085 - val_loss: 1.4932 - val_accuracy: 0.5553 - 101ms/epoch - 11ms/step\n",
      "Epoch 9/200\n",
      "9/9 - 0s - loss: 1.4727 - accuracy: 0.5254 - val_loss: 1.4030 - val_accuracy: 0.5627 - 99ms/epoch - 11ms/step\n",
      "Epoch 10/200\n",
      "9/9 - 0s - loss: 1.3892 - accuracy: 0.5327 - val_loss: 1.3058 - val_accuracy: 0.5848 - 102ms/epoch - 11ms/step\n",
      "Epoch 11/200\n",
      "9/9 - 0s - loss: 1.3048 - accuracy: 0.5436 - val_loss: 1.2174 - val_accuracy: 0.6069 - 99ms/epoch - 11ms/step\n",
      "Epoch 12/200\n",
      "9/9 - 0s - loss: 1.2276 - accuracy: 0.5799 - val_loss: 1.1422 - val_accuracy: 0.6167 - 103ms/epoch - 11ms/step\n",
      "Epoch 13/200\n",
      "9/9 - 0s - loss: 1.1545 - accuracy: 0.6041 - val_loss: 1.0727 - val_accuracy: 0.6364 - 105ms/epoch - 12ms/step\n",
      "Epoch 14/200\n",
      "9/9 - 0s - loss: 1.0864 - accuracy: 0.6441 - val_loss: 1.0108 - val_accuracy: 0.6683 - 100ms/epoch - 11ms/step\n",
      "Epoch 15/200\n",
      "9/9 - 0s - loss: 1.0246 - accuracy: 0.6707 - val_loss: 0.9568 - val_accuracy: 0.6855 - 96ms/epoch - 11ms/step\n",
      "Epoch 16/200\n",
      "9/9 - 0s - loss: 0.9675 - accuracy: 0.6828 - val_loss: 0.9008 - val_accuracy: 0.7027 - 95ms/epoch - 11ms/step\n",
      "Epoch 17/200\n",
      "9/9 - 0s - loss: 0.9165 - accuracy: 0.6864 - val_loss: 0.8547 - val_accuracy: 0.7224 - 94ms/epoch - 10ms/step\n",
      "Epoch 18/200\n",
      "9/9 - 0s - loss: 0.8679 - accuracy: 0.7022 - val_loss: 0.8144 - val_accuracy: 0.7322 - 97ms/epoch - 11ms/step\n",
      "Epoch 19/200\n",
      "9/9 - 0s - loss: 0.8255 - accuracy: 0.7300 - val_loss: 0.7741 - val_accuracy: 0.7469 - 99ms/epoch - 11ms/step\n",
      "Epoch 20/200\n",
      "9/9 - 0s - loss: 0.7865 - accuracy: 0.7373 - val_loss: 0.7417 - val_accuracy: 0.7617 - 103ms/epoch - 11ms/step\n",
      "Epoch 21/200\n",
      "9/9 - 0s - loss: 0.7484 - accuracy: 0.7591 - val_loss: 0.7110 - val_accuracy: 0.7666 - 101ms/epoch - 11ms/step\n",
      "Epoch 22/200\n",
      "9/9 - 0s - loss: 0.7142 - accuracy: 0.7615 - val_loss: 0.6850 - val_accuracy: 0.7617 - 99ms/epoch - 11ms/step\n",
      "Epoch 23/200\n",
      "9/9 - 0s - loss: 0.6831 - accuracy: 0.7785 - val_loss: 0.6577 - val_accuracy: 0.7838 - 97ms/epoch - 11ms/step\n",
      "Epoch 24/200\n",
      "9/9 - 0s - loss: 0.6519 - accuracy: 0.7930 - val_loss: 0.6340 - val_accuracy: 0.7789 - 104ms/epoch - 12ms/step\n",
      "Epoch 25/200\n",
      "9/9 - 0s - loss: 0.6256 - accuracy: 0.8002 - val_loss: 0.6160 - val_accuracy: 0.7813 - 108ms/epoch - 12ms/step\n",
      "Epoch 26/200\n",
      "9/9 - 0s - loss: 0.6005 - accuracy: 0.8160 - val_loss: 0.5896 - val_accuracy: 0.7985 - 103ms/epoch - 11ms/step\n",
      "Epoch 27/200\n",
      "9/9 - 0s - loss: 0.5737 - accuracy: 0.8184 - val_loss: 0.5651 - val_accuracy: 0.8157 - 101ms/epoch - 11ms/step\n",
      "Epoch 28/200\n",
      "9/9 - 0s - loss: 0.5546 - accuracy: 0.8366 - val_loss: 0.5481 - val_accuracy: 0.8231 - 100ms/epoch - 11ms/step\n",
      "Epoch 29/200\n",
      "9/9 - 0s - loss: 0.5326 - accuracy: 0.8426 - val_loss: 0.5345 - val_accuracy: 0.8157 - 100ms/epoch - 11ms/step\n",
      "Epoch 30/200\n",
      "9/9 - 0s - loss: 0.5140 - accuracy: 0.8450 - val_loss: 0.5171 - val_accuracy: 0.8354 - 104ms/epoch - 12ms/step\n",
      "Epoch 31/200\n",
      "9/9 - 0s - loss: 0.4959 - accuracy: 0.8475 - val_loss: 0.4999 - val_accuracy: 0.8403 - 104ms/epoch - 12ms/step\n",
      "Epoch 32/200\n",
      "9/9 - 0s - loss: 0.4789 - accuracy: 0.8620 - val_loss: 0.4875 - val_accuracy: 0.8329 - 103ms/epoch - 11ms/step\n",
      "Epoch 33/200\n",
      "9/9 - 0s - loss: 0.4623 - accuracy: 0.8656 - val_loss: 0.4715 - val_accuracy: 0.8428 - 101ms/epoch - 11ms/step\n",
      "Epoch 34/200\n",
      "9/9 - 0s - loss: 0.4475 - accuracy: 0.8717 - val_loss: 0.4577 - val_accuracy: 0.8378 - 104ms/epoch - 12ms/step\n",
      "Epoch 35/200\n",
      "9/9 - 0s - loss: 0.4342 - accuracy: 0.8753 - val_loss: 0.4442 - val_accuracy: 0.8378 - 101ms/epoch - 11ms/step\n",
      "Epoch 36/200\n",
      "9/9 - 0s - loss: 0.4198 - accuracy: 0.8862 - val_loss: 0.4332 - val_accuracy: 0.8403 - 114ms/epoch - 13ms/step\n",
      "Epoch 37/200\n",
      "9/9 - 0s - loss: 0.4080 - accuracy: 0.8850 - val_loss: 0.4192 - val_accuracy: 0.8526 - 98ms/epoch - 11ms/step\n",
      "Epoch 38/200\n",
      "9/9 - 0s - loss: 0.3953 - accuracy: 0.8923 - val_loss: 0.4106 - val_accuracy: 0.8526 - 96ms/epoch - 11ms/step\n",
      "Epoch 39/200\n",
      "9/9 - 0s - loss: 0.3829 - accuracy: 0.8983 - val_loss: 0.3997 - val_accuracy: 0.8501 - 99ms/epoch - 11ms/step\n",
      "Epoch 40/200\n",
      "9/9 - 0s - loss: 0.3712 - accuracy: 0.9056 - val_loss: 0.3861 - val_accuracy: 0.8600 - 94ms/epoch - 10ms/step\n",
      "Epoch 41/200\n",
      "9/9 - 0s - loss: 0.3629 - accuracy: 0.9007 - val_loss: 0.3824 - val_accuracy: 0.8673 - 94ms/epoch - 10ms/step\n",
      "Epoch 42/200\n",
      "9/9 - 0s - loss: 0.3500 - accuracy: 0.9068 - val_loss: 0.3701 - val_accuracy: 0.8550 - 95ms/epoch - 11ms/step\n",
      "Epoch 43/200\n",
      "9/9 - 0s - loss: 0.3430 - accuracy: 0.9165 - val_loss: 0.3617 - val_accuracy: 0.8673 - 99ms/epoch - 11ms/step\n",
      "Epoch 44/200\n",
      "9/9 - 0s - loss: 0.3309 - accuracy: 0.9104 - val_loss: 0.3586 - val_accuracy: 0.8673 - 97ms/epoch - 11ms/step\n",
      "Epoch 45/200\n",
      "9/9 - 0s - loss: 0.3229 - accuracy: 0.9189 - val_loss: 0.3461 - val_accuracy: 0.8722 - 98ms/epoch - 11ms/step\n",
      "Epoch 46/200\n",
      "9/9 - 0s - loss: 0.3141 - accuracy: 0.9249 - val_loss: 0.3372 - val_accuracy: 0.8771 - 96ms/epoch - 11ms/step\n",
      "Epoch 47/200\n",
      "9/9 - 0s - loss: 0.3051 - accuracy: 0.9213 - val_loss: 0.3319 - val_accuracy: 0.8747 - 99ms/epoch - 11ms/step\n",
      "Epoch 48/200\n",
      "9/9 - 0s - loss: 0.3008 - accuracy: 0.9189 - val_loss: 0.3269 - val_accuracy: 0.8845 - 101ms/epoch - 11ms/step\n",
      "Epoch 49/200\n",
      "9/9 - 0s - loss: 0.2884 - accuracy: 0.9310 - val_loss: 0.3155 - val_accuracy: 0.8796 - 102ms/epoch - 11ms/step\n",
      "Epoch 50/200\n",
      "9/9 - 0s - loss: 0.2834 - accuracy: 0.9310 - val_loss: 0.3117 - val_accuracy: 0.8845 - 98ms/epoch - 11ms/step\n",
      "Epoch 51/200\n",
      "9/9 - 0s - loss: 0.2759 - accuracy: 0.9298 - val_loss: 0.3087 - val_accuracy: 0.8845 - 99ms/epoch - 11ms/step\n",
      "Epoch 52/200\n",
      "9/9 - 0s - loss: 0.2689 - accuracy: 0.9370 - val_loss: 0.3036 - val_accuracy: 0.8845 - 99ms/epoch - 11ms/step\n",
      "Epoch 53/200\n",
      "9/9 - 0s - loss: 0.2620 - accuracy: 0.9358 - val_loss: 0.2961 - val_accuracy: 0.8870 - 99ms/epoch - 11ms/step\n",
      "Epoch 54/200\n",
      "9/9 - 0s - loss: 0.2559 - accuracy: 0.9407 - val_loss: 0.2921 - val_accuracy: 0.8919 - 103ms/epoch - 11ms/step\n",
      "Epoch 55/200\n",
      "9/9 - 0s - loss: 0.2507 - accuracy: 0.9358 - val_loss: 0.2863 - val_accuracy: 0.8894 - 97ms/epoch - 11ms/step\n",
      "Epoch 56/200\n",
      "9/9 - 0s - loss: 0.2452 - accuracy: 0.9443 - val_loss: 0.2842 - val_accuracy: 0.8870 - 100ms/epoch - 11ms/step\n",
      "Epoch 57/200\n",
      "9/9 - 0s - loss: 0.2389 - accuracy: 0.9479 - val_loss: 0.2801 - val_accuracy: 0.8943 - 99ms/epoch - 11ms/step\n",
      "Epoch 58/200\n",
      "9/9 - 0s - loss: 0.2337 - accuracy: 0.9455 - val_loss: 0.2734 - val_accuracy: 0.8919 - 100ms/epoch - 11ms/step\n",
      "Epoch 59/200\n",
      "9/9 - 0s - loss: 0.2265 - accuracy: 0.9479 - val_loss: 0.2738 - val_accuracy: 0.8870 - 101ms/epoch - 11ms/step\n",
      "Epoch 60/200\n",
      "9/9 - 0s - loss: 0.2224 - accuracy: 0.9479 - val_loss: 0.2667 - val_accuracy: 0.8943 - 98ms/epoch - 11ms/step\n",
      "Epoch 61/200\n",
      "9/9 - 0s - loss: 0.2172 - accuracy: 0.9540 - val_loss: 0.2633 - val_accuracy: 0.8968 - 99ms/epoch - 11ms/step\n",
      "Epoch 62/200\n",
      "9/9 - 0s - loss: 0.2129 - accuracy: 0.9479 - val_loss: 0.2619 - val_accuracy: 0.8943 - 99ms/epoch - 11ms/step\n",
      "Epoch 63/200\n",
      "9/9 - 0s - loss: 0.2083 - accuracy: 0.9540 - val_loss: 0.2554 - val_accuracy: 0.9017 - 95ms/epoch - 11ms/step\n",
      "Epoch 64/200\n",
      "9/9 - 0s - loss: 0.2045 - accuracy: 0.9564 - val_loss: 0.2565 - val_accuracy: 0.9091 - 96ms/epoch - 11ms/step\n",
      "Epoch 65/200\n",
      "9/9 - 0s - loss: 0.2015 - accuracy: 0.9552 - val_loss: 0.2480 - val_accuracy: 0.9066 - 95ms/epoch - 11ms/step\n",
      "Epoch 66/200\n",
      "9/9 - 0s - loss: 0.1970 - accuracy: 0.9564 - val_loss: 0.2463 - val_accuracy: 0.9091 - 94ms/epoch - 10ms/step\n",
      "Epoch 67/200\n",
      "9/9 - 0s - loss: 0.1927 - accuracy: 0.9576 - val_loss: 0.2471 - val_accuracy: 0.9042 - 101ms/epoch - 11ms/step\n",
      "Epoch 68/200\n",
      "9/9 - 0s - loss: 0.1872 - accuracy: 0.9588 - val_loss: 0.2407 - val_accuracy: 0.9115 - 98ms/epoch - 11ms/step\n",
      "Epoch 69/200\n",
      "9/9 - 0s - loss: 0.1867 - accuracy: 0.9661 - val_loss: 0.2414 - val_accuracy: 0.9165 - 101ms/epoch - 11ms/step\n",
      "Epoch 70/200\n",
      "9/9 - 0s - loss: 0.1820 - accuracy: 0.9588 - val_loss: 0.2378 - val_accuracy: 0.9140 - 99ms/epoch - 11ms/step\n",
      "Epoch 71/200\n",
      "9/9 - 0s - loss: 0.1770 - accuracy: 0.9613 - val_loss: 0.2343 - val_accuracy: 0.9165 - 97ms/epoch - 11ms/step\n",
      "Epoch 72/200\n",
      "9/9 - 0s - loss: 0.1747 - accuracy: 0.9649 - val_loss: 0.2339 - val_accuracy: 0.9165 - 98ms/epoch - 11ms/step\n",
      "Epoch 73/200\n",
      "9/9 - 0s - loss: 0.1706 - accuracy: 0.9673 - val_loss: 0.2307 - val_accuracy: 0.9214 - 96ms/epoch - 11ms/step\n",
      "Epoch 74/200\n",
      "9/9 - 0s - loss: 0.1684 - accuracy: 0.9685 - val_loss: 0.2294 - val_accuracy: 0.9165 - 98ms/epoch - 11ms/step\n",
      "Epoch 75/200\n",
      "9/9 - 0s - loss: 0.1671 - accuracy: 0.9637 - val_loss: 0.2267 - val_accuracy: 0.9238 - 95ms/epoch - 11ms/step\n",
      "Epoch 76/200\n",
      "9/9 - 0s - loss: 0.1616 - accuracy: 0.9697 - val_loss: 0.2254 - val_accuracy: 0.9189 - 95ms/epoch - 11ms/step\n",
      "Epoch 77/200\n",
      "9/9 - 0s - loss: 0.1583 - accuracy: 0.9673 - val_loss: 0.2224 - val_accuracy: 0.9214 - 95ms/epoch - 11ms/step\n",
      "Epoch 78/200\n",
      "9/9 - 0s - loss: 0.1567 - accuracy: 0.9673 - val_loss: 0.2217 - val_accuracy: 0.9238 - 96ms/epoch - 11ms/step\n",
      "Epoch 79/200\n",
      "9/9 - 0s - loss: 0.1545 - accuracy: 0.9685 - val_loss: 0.2172 - val_accuracy: 0.9214 - 104ms/epoch - 12ms/step\n",
      "Epoch 80/200\n",
      "9/9 - 0s - loss: 0.1514 - accuracy: 0.9661 - val_loss: 0.2179 - val_accuracy: 0.9214 - 102ms/epoch - 11ms/step\n",
      "Epoch 81/200\n",
      "9/9 - 0s - loss: 0.1491 - accuracy: 0.9709 - val_loss: 0.2172 - val_accuracy: 0.9238 - 98ms/epoch - 11ms/step\n",
      "Epoch 82/200\n",
      "9/9 - 0s - loss: 0.1473 - accuracy: 0.9722 - val_loss: 0.2115 - val_accuracy: 0.9238 - 101ms/epoch - 11ms/step\n",
      "Epoch 83/200\n",
      "9/9 - 0s - loss: 0.1445 - accuracy: 0.9637 - val_loss: 0.2136 - val_accuracy: 0.9214 - 98ms/epoch - 11ms/step\n",
      "Epoch 84/200\n",
      "9/9 - 0s - loss: 0.1419 - accuracy: 0.9661 - val_loss: 0.2125 - val_accuracy: 0.9287 - 99ms/epoch - 11ms/step\n",
      "Epoch 85/200\n",
      "9/9 - 0s - loss: 0.1379 - accuracy: 0.9734 - val_loss: 0.2095 - val_accuracy: 0.9287 - 100ms/epoch - 11ms/step\n",
      "Epoch 86/200\n",
      "9/9 - 0s - loss: 0.1355 - accuracy: 0.9734 - val_loss: 0.2058 - val_accuracy: 0.9263 - 100ms/epoch - 11ms/step\n",
      "Epoch 87/200\n",
      "9/9 - 0s - loss: 0.1336 - accuracy: 0.9709 - val_loss: 0.2058 - val_accuracy: 0.9287 - 97ms/epoch - 11ms/step\n",
      "Epoch 88/200\n",
      "9/9 - 0s - loss: 0.1313 - accuracy: 0.9746 - val_loss: 0.2063 - val_accuracy: 0.9312 - 95ms/epoch - 11ms/step\n",
      "Epoch 89/200\n",
      "9/9 - 0s - loss: 0.1294 - accuracy: 0.9758 - val_loss: 0.2035 - val_accuracy: 0.9287 - 101ms/epoch - 11ms/step\n",
      "Epoch 90/200\n",
      "9/9 - 0s - loss: 0.1287 - accuracy: 0.9746 - val_loss: 0.2022 - val_accuracy: 0.9287 - 100ms/epoch - 11ms/step\n",
      "Epoch 91/200\n",
      "9/9 - 0s - loss: 0.1260 - accuracy: 0.9758 - val_loss: 0.2006 - val_accuracy: 0.9337 - 99ms/epoch - 11ms/step\n",
      "Epoch 92/200\n",
      "9/9 - 0s - loss: 0.1245 - accuracy: 0.9782 - val_loss: 0.2023 - val_accuracy: 0.9337 - 97ms/epoch - 11ms/step\n",
      "Epoch 93/200\n",
      "9/9 - 0s - loss: 0.1214 - accuracy: 0.9758 - val_loss: 0.1991 - val_accuracy: 0.9386 - 95ms/epoch - 11ms/step\n",
      "Epoch 94/200\n",
      "9/9 - 0s - loss: 0.1200 - accuracy: 0.9758 - val_loss: 0.1967 - val_accuracy: 0.9361 - 97ms/epoch - 11ms/step\n",
      "Epoch 95/200\n",
      "9/9 - 0s - loss: 0.1176 - accuracy: 0.9794 - val_loss: 0.1979 - val_accuracy: 0.9337 - 95ms/epoch - 11ms/step\n",
      "Epoch 96/200\n",
      "9/9 - 0s - loss: 0.1168 - accuracy: 0.9794 - val_loss: 0.1981 - val_accuracy: 0.9337 - 95ms/epoch - 11ms/step\n",
      "Epoch 97/200\n",
      "9/9 - 0s - loss: 0.1152 - accuracy: 0.9770 - val_loss: 0.1973 - val_accuracy: 0.9361 - 98ms/epoch - 11ms/step\n",
      "Epoch 98/200\n",
      "9/9 - 0s - loss: 0.1129 - accuracy: 0.9806 - val_loss: 0.1943 - val_accuracy: 0.9361 - 99ms/epoch - 11ms/step\n",
      "Epoch 99/200\n",
      "9/9 - 0s - loss: 0.1118 - accuracy: 0.9770 - val_loss: 0.1912 - val_accuracy: 0.9337 - 101ms/epoch - 11ms/step\n",
      "Epoch 100/200\n",
      "9/9 - 0s - loss: 0.1091 - accuracy: 0.9806 - val_loss: 0.1927 - val_accuracy: 0.9361 - 100ms/epoch - 11ms/step\n",
      "Epoch 101/200\n",
      "9/9 - 0s - loss: 0.1079 - accuracy: 0.9770 - val_loss: 0.1881 - val_accuracy: 0.9410 - 101ms/epoch - 11ms/step\n",
      "Epoch 102/200\n",
      "9/9 - 0s - loss: 0.1067 - accuracy: 0.9758 - val_loss: 0.1905 - val_accuracy: 0.9410 - 98ms/epoch - 11ms/step\n",
      "Epoch 103/200\n",
      "9/9 - 0s - loss: 0.1050 - accuracy: 0.9782 - val_loss: 0.1862 - val_accuracy: 0.9386 - 98ms/epoch - 11ms/step\n",
      "Epoch 104/200\n",
      "9/9 - 0s - loss: 0.1034 - accuracy: 0.9794 - val_loss: 0.1881 - val_accuracy: 0.9386 - 103ms/epoch - 11ms/step\n",
      "Epoch 105/200\n",
      "9/9 - 0s - loss: 0.1018 - accuracy: 0.9782 - val_loss: 0.1879 - val_accuracy: 0.9386 - 101ms/epoch - 11ms/step\n",
      "Epoch 106/200\n",
      "9/9 - 0s - loss: 0.1006 - accuracy: 0.9818 - val_loss: 0.1880 - val_accuracy: 0.9386 - 102ms/epoch - 11ms/step\n",
      "Epoch 107/200\n",
      "9/9 - 0s - loss: 0.0991 - accuracy: 0.9831 - val_loss: 0.1855 - val_accuracy: 0.9410 - 100ms/epoch - 11ms/step\n",
      "Epoch 108/200\n",
      "9/9 - 0s - loss: 0.0976 - accuracy: 0.9843 - val_loss: 0.1833 - val_accuracy: 0.9410 - 99ms/epoch - 11ms/step\n",
      "Epoch 109/200\n",
      "9/9 - 0s - loss: 0.0963 - accuracy: 0.9831 - val_loss: 0.1822 - val_accuracy: 0.9410 - 98ms/epoch - 11ms/step\n",
      "Epoch 110/200\n",
      "9/9 - 0s - loss: 0.0953 - accuracy: 0.9855 - val_loss: 0.1852 - val_accuracy: 0.9410 - 98ms/epoch - 11ms/step\n",
      "Epoch 111/200\n",
      "9/9 - 0s - loss: 0.0937 - accuracy: 0.9855 - val_loss: 0.1816 - val_accuracy: 0.9410 - 97ms/epoch - 11ms/step\n",
      "Epoch 112/200\n",
      "9/9 - 0s - loss: 0.0926 - accuracy: 0.9806 - val_loss: 0.1813 - val_accuracy: 0.9386 - 98ms/epoch - 11ms/step\n",
      "Epoch 113/200\n",
      "9/9 - 0s - loss: 0.0907 - accuracy: 0.9855 - val_loss: 0.1820 - val_accuracy: 0.9410 - 100ms/epoch - 11ms/step\n",
      "Epoch 114/200\n",
      "9/9 - 0s - loss: 0.0896 - accuracy: 0.9867 - val_loss: 0.1783 - val_accuracy: 0.9435 - 113ms/epoch - 13ms/step\n",
      "Epoch 115/200\n",
      "9/9 - 0s - loss: 0.0883 - accuracy: 0.9867 - val_loss: 0.1778 - val_accuracy: 0.9435 - 95ms/epoch - 11ms/step\n",
      "Epoch 116/200\n",
      "9/9 - 0s - loss: 0.0874 - accuracy: 0.9843 - val_loss: 0.1768 - val_accuracy: 0.9410 - 95ms/epoch - 11ms/step\n",
      "Epoch 117/200\n",
      "9/9 - 0s - loss: 0.0879 - accuracy: 0.9855 - val_loss: 0.1744 - val_accuracy: 0.9435 - 94ms/epoch - 10ms/step\n",
      "Epoch 118/200\n",
      "9/9 - 0s - loss: 0.0842 - accuracy: 0.9867 - val_loss: 0.1763 - val_accuracy: 0.9410 - 93ms/epoch - 10ms/step\n",
      "Epoch 119/200\n",
      "9/9 - 0s - loss: 0.0856 - accuracy: 0.9794 - val_loss: 0.1776 - val_accuracy: 0.9435 - 99ms/epoch - 11ms/step\n",
      "Epoch 120/200\n",
      "9/9 - 0s - loss: 0.0829 - accuracy: 0.9879 - val_loss: 0.1717 - val_accuracy: 0.9484 - 96ms/epoch - 11ms/step\n",
      "Epoch 121/200\n",
      "9/9 - 0s - loss: 0.0818 - accuracy: 0.9855 - val_loss: 0.1779 - val_accuracy: 0.9386 - 103ms/epoch - 11ms/step\n",
      "Epoch 122/200\n",
      "9/9 - 0s - loss: 0.0811 - accuracy: 0.9879 - val_loss: 0.1725 - val_accuracy: 0.9459 - 96ms/epoch - 11ms/step\n",
      "Epoch 123/200\n",
      "9/9 - 0s - loss: 0.0789 - accuracy: 0.9879 - val_loss: 0.1741 - val_accuracy: 0.9435 - 94ms/epoch - 10ms/step\n",
      "Epoch 124/200\n",
      "9/9 - 0s - loss: 0.0777 - accuracy: 0.9867 - val_loss: 0.1730 - val_accuracy: 0.9410 - 97ms/epoch - 11ms/step\n",
      "Epoch 125/200\n",
      "9/9 - 0s - loss: 0.0769 - accuracy: 0.9879 - val_loss: 0.1727 - val_accuracy: 0.9410 - 94ms/epoch - 10ms/step\n",
      "Epoch 126/200\n",
      "9/9 - 0s - loss: 0.0753 - accuracy: 0.9879 - val_loss: 0.1732 - val_accuracy: 0.9386 - 96ms/epoch - 11ms/step\n",
      "Epoch 127/200\n",
      "9/9 - 0s - loss: 0.0751 - accuracy: 0.9879 - val_loss: 0.1729 - val_accuracy: 0.9410 - 95ms/epoch - 11ms/step\n",
      "Epoch 128/200\n",
      "9/9 - 0s - loss: 0.0745 - accuracy: 0.9867 - val_loss: 0.1748 - val_accuracy: 0.9435 - 94ms/epoch - 10ms/step\n",
      "Epoch 129/200\n",
      "9/9 - 0s - loss: 0.0729 - accuracy: 0.9891 - val_loss: 0.1707 - val_accuracy: 0.9459 - 97ms/epoch - 11ms/step\n",
      "Epoch 130/200\n",
      "9/9 - 0s - loss: 0.0710 - accuracy: 0.9879 - val_loss: 0.1726 - val_accuracy: 0.9410 - 94ms/epoch - 10ms/step\n",
      "Epoch 131/200\n",
      "9/9 - 0s - loss: 0.0709 - accuracy: 0.9867 - val_loss: 0.1721 - val_accuracy: 0.9435 - 96ms/epoch - 11ms/step\n",
      "Epoch 132/200\n",
      "9/9 - 0s - loss: 0.0693 - accuracy: 0.9879 - val_loss: 0.1683 - val_accuracy: 0.9410 - 96ms/epoch - 11ms/step\n",
      "Epoch 133/200\n",
      "9/9 - 0s - loss: 0.0697 - accuracy: 0.9891 - val_loss: 0.1696 - val_accuracy: 0.9459 - 94ms/epoch - 10ms/step\n",
      "Epoch 134/200\n",
      "9/9 - 0s - loss: 0.0668 - accuracy: 0.9903 - val_loss: 0.1698 - val_accuracy: 0.9435 - 101ms/epoch - 11ms/step\n",
      "Epoch 135/200\n",
      "9/9 - 0s - loss: 0.0670 - accuracy: 0.9879 - val_loss: 0.1702 - val_accuracy: 0.9459 - 98ms/epoch - 11ms/step\n",
      "Epoch 136/200\n",
      "9/9 - 0s - loss: 0.0657 - accuracy: 0.9891 - val_loss: 0.1719 - val_accuracy: 0.9386 - 101ms/epoch - 11ms/step\n",
      "Epoch 137/200\n",
      "9/9 - 0s - loss: 0.0642 - accuracy: 0.9915 - val_loss: 0.1684 - val_accuracy: 0.9410 - 100ms/epoch - 11ms/step\n",
      "Epoch 138/200\n",
      "9/9 - 0s - loss: 0.0634 - accuracy: 0.9915 - val_loss: 0.1674 - val_accuracy: 0.9410 - 96ms/epoch - 11ms/step\n",
      "Epoch 139/200\n",
      "9/9 - 0s - loss: 0.0632 - accuracy: 0.9903 - val_loss: 0.1686 - val_accuracy: 0.9386 - 99ms/epoch - 11ms/step\n",
      "Epoch 140/200\n",
      "9/9 - 0s - loss: 0.0627 - accuracy: 0.9903 - val_loss: 0.1650 - val_accuracy: 0.9435 - 97ms/epoch - 11ms/step\n",
      "Epoch 141/200\n",
      "9/9 - 0s - loss: 0.0616 - accuracy: 0.9915 - val_loss: 0.1654 - val_accuracy: 0.9435 - 101ms/epoch - 11ms/step\n",
      "Epoch 142/200\n",
      "9/9 - 0s - loss: 0.0598 - accuracy: 0.9927 - val_loss: 0.1650 - val_accuracy: 0.9484 - 96ms/epoch - 11ms/step\n",
      "Epoch 143/200\n",
      "9/9 - 0s - loss: 0.0595 - accuracy: 0.9915 - val_loss: 0.1652 - val_accuracy: 0.9410 - 97ms/epoch - 11ms/step\n",
      "Epoch 144/200\n",
      "9/9 - 0s - loss: 0.0578 - accuracy: 0.9939 - val_loss: 0.1632 - val_accuracy: 0.9435 - 98ms/epoch - 11ms/step\n",
      "Epoch 145/200\n",
      "9/9 - 0s - loss: 0.0580 - accuracy: 0.9915 - val_loss: 0.1657 - val_accuracy: 0.9459 - 102ms/epoch - 11ms/step\n",
      "Epoch 146/200\n",
      "9/9 - 0s - loss: 0.0564 - accuracy: 0.9939 - val_loss: 0.1652 - val_accuracy: 0.9410 - 97ms/epoch - 11ms/step\n",
      "Epoch 147/200\n",
      "9/9 - 0s - loss: 0.0559 - accuracy: 0.9939 - val_loss: 0.1640 - val_accuracy: 0.9459 - 102ms/epoch - 11ms/step\n",
      "Epoch 148/200\n",
      "9/9 - 0s - loss: 0.0568 - accuracy: 0.9903 - val_loss: 0.1683 - val_accuracy: 0.9459 - 97ms/epoch - 11ms/step\n",
      "Epoch 149/200\n",
      "9/9 - 0s - loss: 0.0558 - accuracy: 0.9939 - val_loss: 0.1641 - val_accuracy: 0.9459 - 98ms/epoch - 11ms/step\n",
      "Epoch 150/200\n",
      "9/9 - 0s - loss: 0.0540 - accuracy: 0.9903 - val_loss: 0.1682 - val_accuracy: 0.9435 - 98ms/epoch - 11ms/step\n",
      "Epoch 151/200\n",
      "9/9 - 0s - loss: 0.0538 - accuracy: 0.9939 - val_loss: 0.1629 - val_accuracy: 0.9435 - 101ms/epoch - 11ms/step\n",
      "Epoch 152/200\n",
      "9/9 - 0s - loss: 0.0534 - accuracy: 0.9927 - val_loss: 0.1645 - val_accuracy: 0.9435 - 100ms/epoch - 11ms/step\n",
      "Epoch 153/200\n",
      "9/9 - 0s - loss: 0.0515 - accuracy: 0.9927 - val_loss: 0.1629 - val_accuracy: 0.9435 - 101ms/epoch - 11ms/step\n",
      "Epoch 154/200\n",
      "9/9 - 0s - loss: 0.0514 - accuracy: 0.9927 - val_loss: 0.1632 - val_accuracy: 0.9435 - 99ms/epoch - 11ms/step\n",
      "Epoch 155/200\n",
      "9/9 - 0s - loss: 0.0499 - accuracy: 0.9952 - val_loss: 0.1642 - val_accuracy: 0.9435 - 99ms/epoch - 11ms/step\n",
      "Epoch 156/200\n",
      "9/9 - 0s - loss: 0.0493 - accuracy: 0.9964 - val_loss: 0.1618 - val_accuracy: 0.9459 - 98ms/epoch - 11ms/step\n",
      "Epoch 157/200\n",
      "9/9 - 0s - loss: 0.0493 - accuracy: 0.9964 - val_loss: 0.1653 - val_accuracy: 0.9435 - 99ms/epoch - 11ms/step\n",
      "Epoch 158/200\n",
      "9/9 - 0s - loss: 0.0478 - accuracy: 0.9964 - val_loss: 0.1594 - val_accuracy: 0.9386 - 100ms/epoch - 11ms/step\n",
      "Epoch 159/200\n",
      "9/9 - 0s - loss: 0.0470 - accuracy: 0.9964 - val_loss: 0.1612 - val_accuracy: 0.9386 - 102ms/epoch - 11ms/step\n",
      "Epoch 160/200\n",
      "9/9 - 0s - loss: 0.0470 - accuracy: 0.9952 - val_loss: 0.1588 - val_accuracy: 0.9435 - 101ms/epoch - 11ms/step\n",
      "Epoch 161/200\n",
      "9/9 - 0s - loss: 0.0459 - accuracy: 0.9964 - val_loss: 0.1620 - val_accuracy: 0.9410 - 101ms/epoch - 11ms/step\n",
      "Epoch 162/200\n",
      "9/9 - 0s - loss: 0.0450 - accuracy: 0.9964 - val_loss: 0.1587 - val_accuracy: 0.9509 - 98ms/epoch - 11ms/step\n",
      "Epoch 163/200\n",
      "9/9 - 0s - loss: 0.0445 - accuracy: 0.9952 - val_loss: 0.1599 - val_accuracy: 0.9435 - 98ms/epoch - 11ms/step\n",
      "Epoch 164/200\n",
      "9/9 - 0s - loss: 0.0446 - accuracy: 0.9964 - val_loss: 0.1614 - val_accuracy: 0.9435 - 98ms/epoch - 11ms/step\n",
      "Epoch 165/200\n",
      "9/9 - 0s - loss: 0.0434 - accuracy: 0.9952 - val_loss: 0.1591 - val_accuracy: 0.9484 - 97ms/epoch - 11ms/step\n",
      "Epoch 166/200\n",
      "9/9 - 0s - loss: 0.0441 - accuracy: 0.9939 - val_loss: 0.1648 - val_accuracy: 0.9484 - 93ms/epoch - 10ms/step\n",
      "Epoch 167/200\n",
      "9/9 - 0s - loss: 0.0434 - accuracy: 0.9964 - val_loss: 0.1579 - val_accuracy: 0.9509 - 94ms/epoch - 10ms/step\n",
      "Epoch 168/200\n",
      "9/9 - 0s - loss: 0.0434 - accuracy: 0.9964 - val_loss: 0.1602 - val_accuracy: 0.9459 - 94ms/epoch - 10ms/step\n",
      "Epoch 169/200\n",
      "9/9 - 0s - loss: 0.0448 - accuracy: 0.9939 - val_loss: 0.1649 - val_accuracy: 0.9484 - 94ms/epoch - 10ms/step\n",
      "Epoch 170/200\n",
      "9/9 - 0s - loss: 0.0419 - accuracy: 0.9976 - val_loss: 0.1598 - val_accuracy: 0.9459 - 93ms/epoch - 10ms/step\n",
      "Epoch 171/200\n",
      "9/9 - 0s - loss: 0.0405 - accuracy: 0.9964 - val_loss: 0.1626 - val_accuracy: 0.9435 - 93ms/epoch - 10ms/step\n",
      "Epoch 172/200\n",
      "9/9 - 0s - loss: 0.0391 - accuracy: 0.9976 - val_loss: 0.1616 - val_accuracy: 0.9459 - 98ms/epoch - 11ms/step\n",
      "Epoch 173/200\n",
      "9/9 - 0s - loss: 0.0388 - accuracy: 0.9964 - val_loss: 0.1639 - val_accuracy: 0.9459 - 104ms/epoch - 12ms/step\n",
      "Epoch 174/200\n",
      "9/9 - 0s - loss: 0.0382 - accuracy: 0.9964 - val_loss: 0.1629 - val_accuracy: 0.9459 - 104ms/epoch - 12ms/step\n",
      "Epoch 175/200\n",
      "9/9 - 0s - loss: 0.0382 - accuracy: 0.9952 - val_loss: 0.1643 - val_accuracy: 0.9459 - 96ms/epoch - 11ms/step\n",
      "Epoch 176/200\n",
      "9/9 - 0s - loss: 0.0377 - accuracy: 0.9964 - val_loss: 0.1615 - val_accuracy: 0.9435 - 98ms/epoch - 11ms/step\n",
      "Epoch 177/200\n",
      "9/9 - 0s - loss: 0.0372 - accuracy: 0.9964 - val_loss: 0.1623 - val_accuracy: 0.9459 - 98ms/epoch - 11ms/step\n",
      "Epoch 178/200\n",
      "9/9 - 0s - loss: 0.0363 - accuracy: 0.9964 - val_loss: 0.1638 - val_accuracy: 0.9459 - 101ms/epoch - 11ms/step\n",
      "Epoch 179/200\n",
      "9/9 - 0s - loss: 0.0370 - accuracy: 0.9976 - val_loss: 0.1607 - val_accuracy: 0.9435 - 98ms/epoch - 11ms/step\n",
      "Epoch 180/200\n",
      "9/9 - 0s - loss: 0.0363 - accuracy: 0.9964 - val_loss: 0.1630 - val_accuracy: 0.9459 - 96ms/epoch - 11ms/step\n",
      "Epoch 181/200\n",
      "9/9 - 0s - loss: 0.0353 - accuracy: 0.9964 - val_loss: 0.1618 - val_accuracy: 0.9484 - 95ms/epoch - 11ms/step\n",
      "Epoch 182/200\n",
      "9/9 - 0s - loss: 0.0352 - accuracy: 0.9988 - val_loss: 0.1630 - val_accuracy: 0.9459 - 94ms/epoch - 10ms/step\n",
      "Epoch 183/200\n",
      "9/9 - 0s - loss: 0.0343 - accuracy: 0.9988 - val_loss: 0.1619 - val_accuracy: 0.9484 - 92ms/epoch - 10ms/step\n",
      "Epoch 184/200\n",
      "9/9 - 0s - loss: 0.0335 - accuracy: 0.9976 - val_loss: 0.1621 - val_accuracy: 0.9459 - 93ms/epoch - 10ms/step\n",
      "Epoch 185/200\n",
      "9/9 - 0s - loss: 0.0332 - accuracy: 0.9976 - val_loss: 0.1620 - val_accuracy: 0.9484 - 100ms/epoch - 11ms/step\n",
      "Epoch 186/200\n",
      "9/9 - 0s - loss: 0.0335 - accuracy: 0.9964 - val_loss: 0.1586 - val_accuracy: 0.9459 - 99ms/epoch - 11ms/step\n",
      "Epoch 187/200\n",
      "9/9 - 0s - loss: 0.0326 - accuracy: 0.9976 - val_loss: 0.1644 - val_accuracy: 0.9435 - 96ms/epoch - 11ms/step\n",
      "Epoch 188/200\n",
      "9/9 - 0s - loss: 0.0325 - accuracy: 0.9976 - val_loss: 0.1591 - val_accuracy: 0.9533 - 96ms/epoch - 11ms/step\n",
      "Epoch 189/200\n",
      "9/9 - 0s - loss: 0.0318 - accuracy: 0.9976 - val_loss: 0.1620 - val_accuracy: 0.9459 - 102ms/epoch - 11ms/step\n",
      "Epoch 190/200\n",
      "9/9 - 0s - loss: 0.0313 - accuracy: 0.9988 - val_loss: 0.1618 - val_accuracy: 0.9459 - 108ms/epoch - 12ms/step\n",
      "Epoch 191/200\n",
      "9/9 - 0s - loss: 0.0310 - accuracy: 0.9976 - val_loss: 0.1609 - val_accuracy: 0.9484 - 105ms/epoch - 12ms/step\n",
      "Epoch 192/200\n",
      "9/9 - 0s - loss: 0.0301 - accuracy: 0.9976 - val_loss: 0.1629 - val_accuracy: 0.9435 - 101ms/epoch - 11ms/step\n",
      "Epoch 193/200\n",
      "9/9 - 0s - loss: 0.0299 - accuracy: 0.9976 - val_loss: 0.1636 - val_accuracy: 0.9435 - 99ms/epoch - 11ms/step\n",
      "Epoch 194/200\n",
      "9/9 - 0s - loss: 0.0299 - accuracy: 0.9976 - val_loss: 0.1619 - val_accuracy: 0.9459 - 103ms/epoch - 11ms/step\n",
      "Epoch 195/200\n",
      "9/9 - 0s - loss: 0.0294 - accuracy: 0.9988 - val_loss: 0.1648 - val_accuracy: 0.9435 - 105ms/epoch - 12ms/step\n",
      "Epoch 196/200\n",
      "9/9 - 0s - loss: 0.0287 - accuracy: 0.9988 - val_loss: 0.1625 - val_accuracy: 0.9435 - 100ms/epoch - 11ms/step\n",
      "Epoch 197/200\n",
      "9/9 - 0s - loss: 0.0284 - accuracy: 0.9988 - val_loss: 0.1633 - val_accuracy: 0.9435 - 100ms/epoch - 11ms/step\n",
      "Epoch 198/200\n",
      "9/9 - 0s - loss: 0.0282 - accuracy: 0.9988 - val_loss: 0.1649 - val_accuracy: 0.9435 - 99ms/epoch - 11ms/step\n",
      "Epoch 199/200\n",
      "9/9 - 0s - loss: 0.0279 - accuracy: 0.9976 - val_loss: 0.1622 - val_accuracy: 0.9484 - 103ms/epoch - 11ms/step\n",
      "Epoch 200/200\n",
      "9/9 - 0s - loss: 0.0275 - accuracy: 0.9988 - val_loss: 0.1638 - val_accuracy: 0.9410 - 103ms/epoch - 11ms/step\n"
     ]
    }
   ],
   "source": [
    "# Compile and evaluate model on training data\n",
    "model = baseline_model()\n",
    "model.compile(loss='categorical_crossentropy', optimizer='adam', metrics=['accuracy'])\n",
    "history = model.fit(X_train, yhot_train, validation_split=0.33,\n",
    "                    epochs=200,batch_size=100, verbose=2)"
   ],
   "metadata": {
    "collapsed": false,
    "pycharm": {
     "name": "#%%\n"
    }
   }
  },
  {
   "cell_type": "code",
   "execution_count": 17,
   "outputs": [
    {
     "data": {
      "text/plain": "<Figure size 432x288 with 1 Axes>",
      "image/png": "[encoded data removed]"
     },
     "metadata": {
      "needs_background": "light"
     },
     "output_type": "display_data"
    }
   ],
   "source": [
    "# summarize history for loss\n",
    "plt.plot(history.history['loss'])\n",
    "plt.plot(history.history['val_loss'])\n",
    "plt.title('Model Loss', weight='bold')\n",
    "plt.ylabel('loss')\n",
    "plt.xlabel('epoch')\n",
    "plt.legend(['Train', 'Test'], loc='upper left')\n",
    "plt.show()"
   ],
   "metadata": {
    "collapsed": false,
    "pycharm": {
     "name": "#%%\n"
    }
   }
  },
  {
   "cell_type": "code",
   "execution_count": 13,
   "outputs": [
    {
     "name": "stdout",
     "output_type": "stream",
     "text": [
      "17/17 [==============================] - 0s 8ms/step - loss: 0.1490 - accuracy: 0.9546\n",
      "Model Accuracy on new data: 95.46\n"
     ]
    }
   ],
   "source": [
    "# run an evaluation test set and see how we hold up with new data.\n",
    "_, accuracy = model.evaluate(X_test, yhot_test)\n",
    "print('Model Accuracy on new data: %.2f' % (accuracy * 100))"
   ],
   "metadata": {
    "collapsed": false,
    "pycharm": {
     "name": "#%%\n"
    }
   }
  },
  {
   "cell_type": "code",
   "execution_count": 14,
   "outputs": [
    {
     "name": "stdout",
     "output_type": "stream",
     "text": [
      "17/17 [==============================] - 0s 2ms/step\n",
      "Model Prediction Accuracy: 95.463138\n"
     ]
    },
    {
     "name": "stderr",
     "output_type": "stream",
     "text": [
      "2022-06-14 19:35:07.474587: I tensorflow/core/grappler/optimizers/custom_graph_optimizer_registry.cc:113] Plugin optimizer for device_type GPU is enabled.\n"
     ]
    }
   ],
   "source": [
    "# Make a prediction on all our data and see how we go.\n",
    "y_pred = model.predict(X_test)\n",
    "pred = np.argmax(y_pred, axis=1)\n",
    "print(f'Model Prediction Accuracy: {(pred == y_test).mean() * 100:f}')"
   ],
   "metadata": {
    "collapsed": false,
    "pycharm": {
     "name": "#%%\n"
    }
   }
  },
  {
   "cell_type": "code",
   "execution_count": 15,
   "outputs": [
    {
     "name": "stdout",
     "output_type": "stream",
     "text": [
      "Number of classified: 505\n"
     ]
    }
   ],
   "source": [
    "print(f'Number of classified: {(pred == y_test).sum()}')"
   ],
   "metadata": {
    "collapsed": false,
    "pycharm": {
     "name": "#%%\n"
    }
   }
  },
  {
   "cell_type": "code",
   "execution_count": 16,
   "outputs": [
    {
     "name": "stdout",
     "output_type": "stream",
     "text": [
      "Number of misclassified: 24\n"
     ]
    }
   ],
   "source": [
    "print(f'Number of misclassified: {(pred != y_test).sum()}')"
   ],
   "metadata": {
    "collapsed": false,
    "pycharm": {
     "name": "#%%\n"
    }
   }
  },
  {
   "cell_type": "code",
   "execution_count": 19,
   "outputs": [],
   "source": [
    "#ann_viz(model, title=\"Obesity Network\", view=False, filename=\"test.pdf\")\n",
    "#plot_model(model, to_file='model_plot.png', show_shapes=True, show_layer_names=True)"
   ],
   "metadata": {
    "collapsed": false,
    "pycharm": {
     "name": "#%%\n"
    }
   }
  },
  {
   "cell_type": "code",
   "execution_count": 19,
   "outputs": [],
   "source": [],
   "metadata": {
    "collapsed": false,
    "pycharm": {
     "name": "#%%\n"
    }
   }
  }
 ],
 "metadata": {
  "kernelspec": {
   "display_name": "Python 3",
   "language": "python",
   "name": "python3"
  },
  "language_info": {
   "codemirror_mode": {
    "name": "ipython",
    "version": 2
   },
   "file_extension": ".py",
   "mimetype": "text/x-python",
   "name": "python",
   "nbconvert_exporter": "python",
   "pygments_lexer": "ipython2",
   "version": "2.7.6"
  }
 },
 "nbformat": 4,
 "nbformat_minor": 0
}