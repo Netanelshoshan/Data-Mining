{
 "cells": [
  {
   "cell_type": "code",
   "execution_count": 1,
   "outputs": [],
   "source": [
    "import pandas as pd\n",
    "from mlxtend.frequent_patterns import fpgrowth,association_rules"
   ],
   "metadata": {
    "collapsed": false,
    "pycharm": {
     "name": "#%%\n"
    }
   }
  },
  {
   "cell_type": "code",
   "execution_count": 2,
   "outputs": [],
   "source": [
    "df = pd.read_csv('readyDataAndChegedTragetAttr.csv', delimiter=',')\n",
    "df"
   ],
   "metadata": {
    "collapsed": false,
    "pycharm": {
     "name": "#%%\n"
    }
   }
  },
  {
   "cell_type": "code",
   "execution_count": 240,
   "outputs": [
    {
     "data": {
      "text/plain": "      Gender=Male_binarized  Age_lte24_binarized  Age_(24-34]_binarized  \\\n0                     False                 True                  False   \n1                     False                 True                  False   \n2                      True                 True                  False   \n3                      True                False                   True   \n4                      True                False                   True   \n...                     ...                  ...                    ...   \n1757                  False                 True                  False   \n1758                  False                 True                  False   \n1759                  False                 True                  False   \n1760                  False                False                   True   \n1761                  False                 True                  False   \n\n      Age_(34-inf)_binarized  Height_lte1.62_binarized  \\\n0                      False                      True   \n1                      False                      True   \n2                      False                     False   \n3                      False                     False   \n4                      False                      True   \n...                      ...                       ...   \n1757                   False                     False   \n1758                   False                     False   \n1759                   False                     False   \n1760                   False                     False   \n1761                   False                     False   \n\n      Height_(1.627-1.803]_binarized  Height_bt1.803_binarized  \\\n0                              False                     False   \n1                              False                     False   \n2                               True                     False   \n3                               True                     False   \n4                              False                     False   \n...                              ...                       ...   \n1757                            True                     False   \n1758                            True                     False   \n1759                            True                     False   \n1760                            True                     False   \n1761                            True                     False   \n\n      Weight_lte83.6_binarized  Weight_(83.6-128.3]_binarized  \\\n0                         True                          False   \n1                         True                          False   \n2                         True                          False   \n3                        False                           True   \n4                         True                          False   \n...                        ...                            ...   \n1757                     False                          False   \n1758                     False                          False   \n1759                     False                          False   \n1760                     False                          False   \n1761                     False                          False   \n\n      Weight>128.3_binarized  ...  TUE>1.33_binarized  CALC=no_binarized  \\\n0                      False  ...               False               True   \n1                      False  ...               False              False   \n2                      False  ...               False              False   \n3                      False  ...               False              False   \n4                      False  ...               False              False   \n...                      ...  ...                 ...                ...   \n1757                    True  ...               False              False   \n1758                    True  ...               False              False   \n1759                    True  ...               False              False   \n1760                    True  ...               False              False   \n1761                    True  ...               False              False   \n\n      CALC=Sometimes_binarized  CALC=Frequently_binarized  \\\n0                        False                      False   \n1                         True                      False   \n2                        False                       True   \n3                        False                       True   \n4                         True                      False   \n...                        ...                        ...   \n1757                      True                      False   \n1758                      True                      False   \n1759                      True                      False   \n1760                      True                      False   \n1761                      True                      False   \n\n      MTRANS=Publid_Transportation_binarized  MTRANS=Walking_binarized  \\\n0                                       True                     False   \n1                                       True                     False   \n2                                       True                     False   \n3                                      False                      True   \n4                                      False                     False   \n...                                      ...                       ...   \n1757                                    True                     False   \n1758                                    True                     False   \n1759                                    True                     False   \n1760                                    True                     False   \n1761                                    True                     False   \n\n      MTRANS=Automobile_binarized  MTRANS=Motorbike_binarized  \\\n0                           False                       False   \n1                           False                       False   \n2                           False                       False   \n3                           False                       False   \n4                            True                       False   \n...                           ...                         ...   \n1757                        False                       False   \n1758                        False                       False   \n1759                        False                       False   \n1760                        False                       False   \n1761                        False                       False   \n\n      MTRANS=Bike_binarized  NObeyesdad=CHECK  \n0                     False             False  \n1                     False             False  \n2                     False             False  \n3                     False              True  \n4                     False             False  \n...                     ...               ...  \n1757                  False              True  \n1758                  False              True  \n1759                  False              True  \n1760                  False              True  \n1761                  False              True  \n\n[1762 rows x 37 columns]",
      "text/html": "<div>\n<style scoped>\n    .dataframe tbody tr th:only-of-type {\n        vertical-align: middle;\n    }\n\n    .dataframe tbody tr th {\n        vertical-align: top;\n    }\n\n    .dataframe thead th {\n        text-align: right;\n    }\n</style>\n<table border=\"1\" class=\"dataframe\">\n  <thead>\n    <tr style=\"text-align: right;\">\n      <th></th>\n      <th>Gender=Male_binarized</th>\n      <th>Age_lte24_binarized</th>\n      <th>Age_(24-34]_binarized</th>\n      <th>Age_(34-inf)_binarized</th>\n      <th>Height_lte1.62_binarized</th>\n      <th>Height_(1.627-1.803]_binarized</th>\n      <th>Height_bt1.803_binarized</th>\n      <th>Weight_lte83.6_binarized</th>\n      <th>Weight_(83.6-128.3]_binarized</th>\n      <th>Weight&gt;128.3_binarized</th>\n      <th>...</th>\n      <th>TUE&gt;1.33_binarized</th>\n      <th>CALC=no_binarized</th>\n      <th>CALC=Sometimes_binarized</th>\n      <th>CALC=Frequently_binarized</th>\n      <th>MTRANS=Publid_Transportation_binarized</th>\n      <th>MTRANS=Walking_binarized</th>\n      <th>MTRANS=Automobile_binarized</th>\n      <th>MTRANS=Motorbike_binarized</th>\n      <th>MTRANS=Bike_binarized</th>\n      <th>NObeyesdad=CHECK</th>\n    </tr>\n  </thead>\n  <tbody>\n    <tr>\n      <th>0</th>\n      <td>False</td>\n      <td>True</td>\n      <td>False</td>\n      <td>False</td>\n      <td>True</td>\n      <td>False</td>\n      <td>False</td>\n      <td>True</td>\n      <td>False</td>\n      <td>False</td>\n      <td>...</td>\n      <td>False</td>\n      <td>True</td>\n      <td>False</td>\n      <td>False</td>\n      <td>True</td>\n      <td>False</td>\n      <td>False</td>\n      <td>False</td>\n      <td>False</td>\n      <td>False</td>\n    </tr>\n    <tr>\n      <th>1</th>\n      <td>False</td>\n      <td>True</td>\n      <td>False</td>\n      <td>False</td>\n      <td>True</td>\n      <td>False</td>\n      <td>False</td>\n      <td>True</td>\n      <td>False</td>\n      <td>False</td>\n      <td>...</td>\n      <td>False</td>\n      <td>False</td>\n      <td>True</td>\n      <td>False</td>\n      <td>True</td>\n      <td>False</td>\n      <td>False</td>\n      <td>False</td>\n      <td>False</td>\n      <td>False</td>\n    </tr>\n    <tr>\n      <th>2</th>\n      <td>True</td>\n      <td>True</td>\n      <td>False</td>\n      <td>False</td>\n      <td>False</td>\n      <td>True</td>\n      <td>False</td>\n      <td>True</td>\n      <td>False</td>\n      <td>False</td>\n      <td>...</td>\n      <td>False</td>\n      <td>False</td>\n      <td>False</td>\n      <td>True</td>\n      <td>True</td>\n      <td>False</td>\n      <td>False</td>\n      <td>False</td>\n      <td>False</td>\n      <td>False</td>\n    </tr>\n    <tr>\n      <th>3</th>\n      <td>True</td>\n      <td>False</td>\n      <td>True</td>\n      <td>False</td>\n      <td>False</td>\n      <td>True</td>\n      <td>False</td>\n      <td>False</td>\n      <td>True</td>\n      <td>False</td>\n      <td>...</td>\n      <td>False</td>\n      <td>False</td>\n      <td>False</td>\n      <td>True</td>\n      <td>False</td>\n      <td>True</td>\n      <td>False</td>\n      <td>False</td>\n      <td>False</td>\n      <td>True</td>\n    </tr>\n    <tr>\n      <th>4</th>\n      <td>True</td>\n      <td>False</td>\n      <td>True</td>\n      <td>False</td>\n      <td>True</td>\n      <td>False</td>\n      <td>False</td>\n      <td>True</td>\n      <td>False</td>\n      <td>False</td>\n      <td>...</td>\n      <td>False</td>\n      <td>False</td>\n      <td>True</td>\n      <td>False</td>\n      <td>False</td>\n      <td>False</td>\n      <td>True</td>\n      <td>False</td>\n      <td>False</td>\n      <td>False</td>\n    </tr>\n    <tr>\n      <th>...</th>\n      <td>...</td>\n      <td>...</td>\n      <td>...</td>\n      <td>...</td>\n      <td>...</td>\n      <td>...</td>\n      <td>...</td>\n      <td>...</td>\n      <td>...</td>\n      <td>...</td>\n      <td>...</td>\n      <td>...</td>\n      <td>...</td>\n      <td>...</td>\n      <td>...</td>\n      <td>...</td>\n      <td>...</td>\n      <td>...</td>\n      <td>...</td>\n      <td>...</td>\n      <td>...</td>\n    </tr>\n    <tr>\n      <th>1757</th>\n      <td>False</td>\n      <td>True</td>\n      <td>False</td>\n      <td>False</td>\n      <td>False</td>\n      <td>True</td>\n      <td>False</td>\n      <td>False</td>\n      <td>False</td>\n      <td>True</td>\n      <td>...</td>\n      <td>False</td>\n      <td>False</td>\n      <td>True</td>\n      <td>False</td>\n      <td>True</td>\n      <td>False</td>\n      <td>False</td>\n      <td>False</td>\n      <td>False</td>\n      <td>True</td>\n    </tr>\n    <tr>\n      <th>1758</th>\n      <td>False</td>\n      <td>True</td>\n      <td>False</td>\n      <td>False</td>\n      <td>False</td>\n      <td>True</td>\n      <td>False</td>\n      <td>False</td>\n      <td>False</td>\n      <td>True</td>\n      <td>...</td>\n      <td>False</td>\n      <td>False</td>\n      <td>True</td>\n      <td>False</td>\n      <td>True</td>\n      <td>False</td>\n      <td>False</td>\n      <td>False</td>\n      <td>False</td>\n      <td>True</td>\n    </tr>\n    <tr>\n      <th>1759</th>\n      <td>False</td>\n      <td>True</td>\n      <td>False</td>\n      <td>False</td>\n      <td>False</td>\n      <td>True</td>\n      <td>False</td>\n      <td>False</td>\n      <td>False</td>\n      <td>True</td>\n      <td>...</td>\n      <td>False</td>\n      <td>False</td>\n      <td>True</td>\n      <td>False</td>\n      <td>True</td>\n      <td>False</td>\n      <td>False</td>\n      <td>False</td>\n      <td>False</td>\n      <td>True</td>\n    </tr>\n    <tr>\n      <th>1760</th>\n      <td>False</td>\n      <td>False</td>\n      <td>True</td>\n      <td>False</td>\n      <td>False</td>\n      <td>True</td>\n      <td>False</td>\n      <td>False</td>\n      <td>False</td>\n      <td>True</td>\n      <td>...</td>\n      <td>False</td>\n      <td>False</td>\n      <td>True</td>\n      <td>False</td>\n      <td>True</td>\n      <td>False</td>\n      <td>False</td>\n      <td>False</td>\n      <td>False</td>\n      <td>True</td>\n    </tr>\n    <tr>\n      <th>1761</th>\n      <td>False</td>\n      <td>True</td>\n      <td>False</td>\n      <td>False</td>\n      <td>False</td>\n      <td>True</td>\n      <td>False</td>\n      <td>False</td>\n      <td>False</td>\n      <td>True</td>\n      <td>...</td>\n      <td>False</td>\n      <td>False</td>\n      <td>True</td>\n      <td>False</td>\n      <td>True</td>\n      <td>False</td>\n      <td>False</td>\n      <td>False</td>\n      <td>False</td>\n      <td>True</td>\n    </tr>\n  </tbody>\n</table>\n<p>1762 rows × 37 columns</p>\n</div>"
     },
     "execution_count": 240,
     "metadata": {},
     "output_type": "execute_result"
    }
   ],
   "source": [
    "# replace binary with boolean\n",
    "df.replace({0:False,1:True},inplace=True)\n",
    "df"
   ],
   "metadata": {
    "collapsed": false,
    "pycharm": {
     "name": "#%%\n"
    }
   }
  },
  {
   "cell_type": "code",
   "execution_count": 241,
   "outputs": [],
   "source": [
    "frequent_itemsets =  fpgrowth(df,min_support=0.4,use_colnames=True,)\n",
    "fp_associationRules = association_rules(frequent_itemsets,metric=\"confidence\",min_threshold=0.6)"
   ],
   "metadata": {
    "collapsed": false,
    "pycharm": {
     "name": "#%%\n"
    }
   }
  },
  {
   "cell_type": "code",
   "execution_count": 242,
   "outputs": [
    {
     "data": {
      "text/plain": "     support                                           itemsets\n0   0.853008                         (CAEC=Sometimes_binarized)\n1   0.745743           (MTRANS=Publid_Transportation_binarized)\n2   0.597049                              (Age_lte24_binarized)\n3   0.561294                                            (FAF≤1)\n4   0.464245                         (Weight_lte83.6_binarized)\n..       ...                                                ...\n95  0.440976  (Weight_(83.6-128.3]_binarized, FAVC=yes_binar...\n96  0.442111  (NObeyesdad=CHECK, Weight_(83.6-128.3]_binariz...\n97  0.438138  (NObeyesdad=CHECK, Weight_(83.6-128.3]_binariz...\n98  0.429625  (Weight_(83.6-128.3]_binarized, CAEC=Sometimes...\n99  0.429058  (NObeyesdad=CHECK, Weight_(83.6-128.3]_binariz...\n\n[100 rows x 2 columns]",
      "text/html": "<div>\n<style scoped>\n    .dataframe tbody tr th:only-of-type {\n        vertical-align: middle;\n    }\n\n    .dataframe tbody tr th {\n        vertical-align: top;\n    }\n\n    .dataframe thead th {\n        text-align: right;\n    }\n</style>\n<table border=\"1\" class=\"dataframe\">\n  <thead>\n    <tr style=\"text-align: right;\">\n      <th></th>\n      <th>support</th>\n      <th>itemsets</th>\n    </tr>\n  </thead>\n  <tbody>\n    <tr>\n      <th>0</th>\n      <td>0.853008</td>\n      <td>(CAEC=Sometimes_binarized)</td>\n    </tr>\n    <tr>\n      <th>1</th>\n      <td>0.745743</td>\n      <td>(MTRANS=Publid_Transportation_binarized)</td>\n    </tr>\n    <tr>\n      <th>2</th>\n      <td>0.597049</td>\n      <td>(Age_lte24_binarized)</td>\n    </tr>\n    <tr>\n      <th>3</th>\n      <td>0.561294</td>\n      <td>(FAF≤1)</td>\n    </tr>\n    <tr>\n      <th>4</th>\n      <td>0.464245</td>\n      <td>(Weight_lte83.6_binarized)</td>\n    </tr>\n    <tr>\n      <th>...</th>\n      <td>...</td>\n      <td>...</td>\n    </tr>\n    <tr>\n      <th>95</th>\n      <td>0.440976</td>\n      <td>(Weight_(83.6-128.3]_binarized, FAVC=yes_binar...</td>\n    </tr>\n    <tr>\n      <th>96</th>\n      <td>0.442111</td>\n      <td>(NObeyesdad=CHECK, Weight_(83.6-128.3]_binariz...</td>\n    </tr>\n    <tr>\n      <th>97</th>\n      <td>0.438138</td>\n      <td>(NObeyesdad=CHECK, Weight_(83.6-128.3]_binariz...</td>\n    </tr>\n    <tr>\n      <th>98</th>\n      <td>0.429625</td>\n      <td>(Weight_(83.6-128.3]_binarized, CAEC=Sometimes...</td>\n    </tr>\n    <tr>\n      <th>99</th>\n      <td>0.429058</td>\n      <td>(NObeyesdad=CHECK, Weight_(83.6-128.3]_binariz...</td>\n    </tr>\n  </tbody>\n</table>\n<p>100 rows × 2 columns</p>\n</div>"
     },
     "execution_count": 242,
     "metadata": {},
     "output_type": "execute_result"
    }
   ],
   "source": [
    "frequent_itemsets"
   ],
   "metadata": {
    "collapsed": false,
    "pycharm": {
     "name": "#%%\n"
    }
   }
  },
  {
   "cell_type": "code",
   "execution_count": 243,
   "outputs": [
    {
     "data": {
      "text/plain": "                                           antecedents  \\\n0                                   (NObeyesdad=CHECK)   \n1                           (CAEC=Sometimes_binarized)   \n2                                 (FAVC=yes_binarized)   \n3                           (CAEC=Sometimes_binarized)   \n4               (NObeyesdad=CHECK, FAVC=yes_binarized)   \n..                                                 ...   \n327  (Weight_(83.6-128.3]_binarized, CAEC=Sometimes...   \n328  (NObeyesdad=CHECK, Weight_(83.6-128.3]_binarized)   \n329  (Weight_(83.6-128.3]_binarized, CAEC=Sometimes...   \n330  (Weight_(83.6-128.3]_binarized, FAVC=yes_binar...   \n331                    (Weight_(83.6-128.3]_binarized)   \n\n                                           consequents  antecedent support  \\\n0                           (CAEC=Sometimes_binarized)            0.867764   \n1                                   (NObeyesdad=CHECK)            0.853008   \n2                           (CAEC=Sometimes_binarized)            0.886493   \n3                                 (FAVC=yes_binarized)            0.853008   \n4                           (CAEC=Sometimes_binarized)            0.791714   \n..                                                 ...                 ...   \n327                                 (NObeyesdad=CHECK)            0.429625   \n328     (FAVC=yes_binarized, CAEC=Sometimes_binarized)            0.452894   \n329             (NObeyesdad=CHECK, FAVC=yes_binarized)            0.442679   \n330       (NObeyesdad=CHECK, CAEC=Sometimes_binarized)            0.440976   \n331  (NObeyesdad=CHECK, CAEC=Sometimes_binarized, F...            0.456300   \n\n     consequent support   support  confidence      lift  leverage  conviction  \n0              0.853008  0.782633    0.901897  1.057313  0.042424    1.498339  \n1              0.867764  0.782633    0.917498  1.057313  0.042424    1.602829  \n2              0.853008  0.782066    0.882202  1.034225  0.025881    1.247835  \n3              0.886493  0.782066    0.916833  1.034225  0.025881    1.364813  \n4              0.853008  0.731555    0.924014  1.083242  0.056217    1.934471  \n..                  ...       ...         ...       ...       ...         ...  \n327            0.867764  0.429058    0.998679  1.150865  0.056244  100.102724  \n328            0.782066  0.429058    0.947368  1.211367  0.074865    4.140749  \n329            0.791714  0.429058    0.969231  1.224218  0.078583    6.769296  \n330            0.782633  0.429058    0.972973  1.243204  0.083935    8.042565  \n331            0.731555  0.429058    0.940299  1.285342  0.095250    4.496453  \n\n[332 rows x 9 columns]",
      "text/html": "<div>\n<style scoped>\n    .dataframe tbody tr th:only-of-type {\n        vertical-align: middle;\n    }\n\n    .dataframe tbody tr th {\n        vertical-align: top;\n    }\n\n    .dataframe thead th {\n        text-align: right;\n    }\n</style>\n<table border=\"1\" class=\"dataframe\">\n  <thead>\n    <tr style=\"text-align: right;\">\n      <th></th>\n      <th>antecedents</th>\n      <th>consequents</th>\n      <th>antecedent support</th>\n      <th>consequent support</th>\n      <th>support</th>\n      <th>confidence</th>\n      <th>lift</th>\n      <th>leverage</th>\n      <th>conviction</th>\n    </tr>\n  </thead>\n  <tbody>\n    <tr>\n      <th>0</th>\n      <td>(NObeyesdad=CHECK)</td>\n      <td>(CAEC=Sometimes_binarized)</td>\n      <td>0.867764</td>\n      <td>0.853008</td>\n      <td>0.782633</td>\n      <td>0.901897</td>\n      <td>1.057313</td>\n      <td>0.042424</td>\n      <td>1.498339</td>\n    </tr>\n    <tr>\n      <th>1</th>\n      <td>(CAEC=Sometimes_binarized)</td>\n      <td>(NObeyesdad=CHECK)</td>\n      <td>0.853008</td>\n      <td>0.867764</td>\n      <td>0.782633</td>\n      <td>0.917498</td>\n      <td>1.057313</td>\n      <td>0.042424</td>\n      <td>1.602829</td>\n    </tr>\n    <tr>\n      <th>2</th>\n      <td>(FAVC=yes_binarized)</td>\n      <td>(CAEC=Sometimes_binarized)</td>\n      <td>0.886493</td>\n      <td>0.853008</td>\n      <td>0.782066</td>\n      <td>0.882202</td>\n      <td>1.034225</td>\n      <td>0.025881</td>\n      <td>1.247835</td>\n    </tr>\n    <tr>\n      <th>3</th>\n      <td>(CAEC=Sometimes_binarized)</td>\n      <td>(FAVC=yes_binarized)</td>\n      <td>0.853008</td>\n      <td>0.886493</td>\n      <td>0.782066</td>\n      <td>0.916833</td>\n      <td>1.034225</td>\n      <td>0.025881</td>\n      <td>1.364813</td>\n    </tr>\n    <tr>\n      <th>4</th>\n      <td>(NObeyesdad=CHECK, FAVC=yes_binarized)</td>\n      <td>(CAEC=Sometimes_binarized)</td>\n      <td>0.791714</td>\n      <td>0.853008</td>\n      <td>0.731555</td>\n      <td>0.924014</td>\n      <td>1.083242</td>\n      <td>0.056217</td>\n      <td>1.934471</td>\n    </tr>\n    <tr>\n      <th>...</th>\n      <td>...</td>\n      <td>...</td>\n      <td>...</td>\n      <td>...</td>\n      <td>...</td>\n      <td>...</td>\n      <td>...</td>\n      <td>...</td>\n      <td>...</td>\n    </tr>\n    <tr>\n      <th>327</th>\n      <td>(Weight_(83.6-128.3]_binarized, CAEC=Sometimes...</td>\n      <td>(NObeyesdad=CHECK)</td>\n      <td>0.429625</td>\n      <td>0.867764</td>\n      <td>0.429058</td>\n      <td>0.998679</td>\n      <td>1.150865</td>\n      <td>0.056244</td>\n      <td>100.102724</td>\n    </tr>\n    <tr>\n      <th>328</th>\n      <td>(NObeyesdad=CHECK, Weight_(83.6-128.3]_binarized)</td>\n      <td>(FAVC=yes_binarized, CAEC=Sometimes_binarized)</td>\n      <td>0.452894</td>\n      <td>0.782066</td>\n      <td>0.429058</td>\n      <td>0.947368</td>\n      <td>1.211367</td>\n      <td>0.074865</td>\n      <td>4.140749</td>\n    </tr>\n    <tr>\n      <th>329</th>\n      <td>(Weight_(83.6-128.3]_binarized, CAEC=Sometimes...</td>\n      <td>(NObeyesdad=CHECK, FAVC=yes_binarized)</td>\n      <td>0.442679</td>\n      <td>0.791714</td>\n      <td>0.429058</td>\n      <td>0.969231</td>\n      <td>1.224218</td>\n      <td>0.078583</td>\n      <td>6.769296</td>\n    </tr>\n    <tr>\n      <th>330</th>\n      <td>(Weight_(83.6-128.3]_binarized, FAVC=yes_binar...</td>\n      <td>(NObeyesdad=CHECK, CAEC=Sometimes_binarized)</td>\n      <td>0.440976</td>\n      <td>0.782633</td>\n      <td>0.429058</td>\n      <td>0.972973</td>\n      <td>1.243204</td>\n      <td>0.083935</td>\n      <td>8.042565</td>\n    </tr>\n    <tr>\n      <th>331</th>\n      <td>(Weight_(83.6-128.3]_binarized)</td>\n      <td>(NObeyesdad=CHECK, CAEC=Sometimes_binarized, F...</td>\n      <td>0.456300</td>\n      <td>0.731555</td>\n      <td>0.429058</td>\n      <td>0.940299</td>\n      <td>1.285342</td>\n      <td>0.095250</td>\n      <td>4.496453</td>\n    </tr>\n  </tbody>\n</table>\n<p>332 rows × 9 columns</p>\n</div>"
     },
     "execution_count": 243,
     "metadata": {},
     "output_type": "execute_result"
    }
   ],
   "source": [
    "fp_associationRules"
   ],
   "metadata": {
    "collapsed": false,
    "pycharm": {
     "name": "#%%\n"
    }
   }
  },
  {
   "cell_type": "code",
   "execution_count": 243,
   "outputs": [],
   "source": [],
   "metadata": {
    "collapsed": false,
    "pycharm": {
     "name": "#%%\n"
    }
   }
  }
 ],
 "metadata": {
  "kernelspec": {
   "display_name": "Python 3",
   "language": "python",
   "name": "python3"
  },
  "language_info": {
   "codemirror_mode": {
    "name": "ipython",
    "version": 2
   },
   "file_extension": ".py",
   "mimetype": "text/x-python",
   "name": "python",
   "nbconvert_exporter": "python",
   "pygments_lexer": "ipython2",
   "version": "2.7.6"
  }
 },
 "nbformat": 4,
 "nbformat_minor": 0
}